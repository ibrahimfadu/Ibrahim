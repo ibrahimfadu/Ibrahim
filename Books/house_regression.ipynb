{
 "cells": [
  {
   "cell_type": "code",
   "execution_count": 54,
   "id": "15802a36-7c08-4745-bf7d-565d575b0b05",
   "metadata": {},
   "outputs": [
    {
     "name": "stdout",
     "output_type": "stream",
     "text": [
      "Mean Squared Error: 4902581952.148009\n"
     ]
    }
   ],
   "source": [
    "import os\n",
    "import urllib\n",
    "import tarfile\n",
    "import pandas as pd\n",
    "import numpy as np\n",
    "from sklearn.model_selection import train_test_split\n",
    "from sklearn.pipeline import Pipeline\n",
    "from sklearn.impute import SimpleImputer\n",
    "from sklearn.preprocessing import StandardScaler, OneHotEncoder\n",
    "from sklearn.compose import ColumnTransformer\n",
    "from sklearn.linear_model import LinearRegression\n",
    "from sklearn.metrics import mean_squared_error\n",
    "\n",
    "# Define constants\n",
    "DOWNLOAD_ROOT = \"https://raw.githubusercontent.com/ageron/handson-ml2/master/\"\n",
    "HOUSING_PATH = os.path.join(\"datasets\", \"housing\")\n",
    "HOUSING_URL = DOWNLOAD_ROOT + \"datasets/housing/housing.tgz\"\n",
    "\n",
    "# Function to fetch data\n",
    "def fetch_housing_data(housing_url=HOUSING_URL, housing_path=HOUSING_PATH):\n",
    "    os.makedirs(housing_path, exist_ok=True)\n",
    "    tgz_path = os.path.join(housing_path, \"housing.tgz\")\n",
    "    urllib.request.urlretrieve(housing_url, tgz_path)\n",
    "    with tarfile.open(tgz_path) as housing_tgz:\n",
    "        housing_tgz.extractall(path=housing_path)\n",
    "\n",
    "fetch_housing_data()\n",
    "\n",
    "# Load data\n",
    "def load_csv(housing=HOUSING_PATH):\n",
    "    csv_file = os.path.join(housing, \"housing.csv\")\n",
    "    return pd.read_csv(csv_file)\n",
    "\n",
    "housing = load_csv()\n",
    "\n",
    "# Split data into features and target\n",
    "x = housing.drop('median_house_value', axis=1)\n",
    "y = housing[\"median_house_value\"]\n",
    "\n",
    "# Split data into training and test sets\n",
    "x_train, x_test, y_train, y_test = train_test_split(x, y, test_size=0.2, random_state=42)\n",
    "\n",
    "# Define preprocessing pipelines\n",
    "cat_pipeline = Pipeline([\n",
    "    (\"impute\", SimpleImputer(strategy=\"most_frequent\")),\n",
    "    (\"convert\", OneHotEncoder(sparse_output=False)),\n",
    "    (\"scaler\", StandardScaler())\n",
    "])\n",
    "\n",
    "num_pipeline = Pipeline([\n",
    "    (\"imputer\", SimpleImputer(strategy=\"mean\")),\n",
    "    (\"scaler\", StandardScaler())\n",
    "])\n",
    "\n",
    "# List of categorical and numerical columns\n",
    "cat_columns = [\"ocean_proximity\"]\n",
    "num_columns = list(x_train.drop('ocean_proximity', axis=1).columns)\n",
    "\n",
    "# Combine preprocessing pipelines into a single column transformer\n",
    "process = ColumnTransformer([\n",
    "    (\"cat\", cat_pipeline, cat_columns),\n",
    "    (\"num\", num_pipeline, num_columns)\n",
    "])\n",
    "\n",
    "# Create the full pipeline with preprocessing and model\n",
    "full_pipeline = Pipeline([\n",
    "    (\"process\", process),\n",
    "    (\"model\", LinearRegression())\n",
    "])\n",
    "\n",
    "# Fit the model\n",
    "full_pipeline.fit(x_train, y_train)\n",
    "\n",
    "# Make predictions\n",
    "y_predict = full_pipeline.predict(x_test)\n",
    "\n",
    "# Evaluate the model\n",
    "mse = mean_squared_error(y_test, y_predict)\n",
    "print(f\"Mean Squared Error: {mse}\")\n"
   ]
  },
  {
   "cell_type": "code",
   "execution_count": 55,
   "id": "711c7cbd-fa67-4559-8b62-28162617fd87",
   "metadata": {},
   "outputs": [
    {
     "data": {
      "text/plain": [
       "0.6258739039830709"
      ]
     },
     "execution_count": 55,
     "metadata": {},
     "output_type": "execute_result"
    }
   ],
   "source": [
    "from sklearn.metrics import r2_score\n",
    "r2_score(y_test, y_predict)"
   ]
  }
 ],
 "metadata": {
  "kernelspec": {
   "display_name": "Python 3 (ipykernel)",
   "language": "python",
   "name": "python3"
  },
  "language_info": {
   "codemirror_mode": {
    "name": "ipython",
    "version": 3
   },
   "file_extension": ".py",
   "mimetype": "text/x-python",
   "name": "python",
   "nbconvert_exporter": "python",
   "pygments_lexer": "ipython3",
   "version": "3.11.7"
  }
 },
 "nbformat": 4,
 "nbformat_minor": 5
}
