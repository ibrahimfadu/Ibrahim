{
 "cells": [
  {
   "cell_type": "code",
   "execution_count": 2,
   "id": "bb465e19-399b-4ff1-bdbf-9b95c4706e8e",
   "metadata": {},
   "outputs": [],
   "source": [
    "import pandas as pd\n",
    "import numpy as np\n",
    "import matplotlib.pyplot as plt\n",
    "import seaborn as sns"
   ]
  },
  {
   "cell_type": "markdown",
   "id": "4c1a1a4d-3901-4a4f-bd90-321e79c632bb",
   "metadata": {},
   "source": [
    "### Loading dataset"
   ]
  },
  {
   "cell_type": "code",
   "execution_count": 3,
   "id": "42f0408a-0af4-49fa-a4b3-11f2e6bfcb28",
   "metadata": {},
   "outputs": [],
   "source": [
    "data=pd.read_csv('titanic.csv')"
   ]
  },
  {
   "cell_type": "markdown",
   "id": "b79f4995-7ecb-4b48-9a47-fbdb149ff0f6",
   "metadata": {},
   "source": [
    "### Handling missing values and droping not usefull columns "
   ]
  },
  {
   "cell_type": "code",
   "execution_count": 4,
   "id": "dc61b965-aec7-48a5-ad6d-145732a3d16c",
   "metadata": {},
   "outputs": [],
   "source": [
    "#create copy of dataset\n",
    "df=data.copy()"
   ]
  },
  {
   "cell_type": "code",
   "execution_count": 6,
   "id": "f1b2efcc-0646-4b4e-aedc-34746cdf4f87",
   "metadata": {},
   "outputs": [
    {
     "data": {
      "text/plain": [
       "PassengerId      0\n",
       "Survived         0\n",
       "Pclass           0\n",
       "Name             0\n",
       "Sex              0\n",
       "Age            177\n",
       "SibSp            0\n",
       "Parch            0\n",
       "Ticket           0\n",
       "Fare             0\n",
       "Cabin          687\n",
       "Embarked         2\n",
       "dtype: int64"
      ]
     },
     "execution_count": 6,
     "metadata": {},
     "output_type": "execute_result"
    }
   ],
   "source": [
    "df.isnull().sum()"
   ]
  },
  {
   "cell_type": "code",
   "execution_count": 12,
   "id": "65ff78dd-67a4-4657-83e7-d2ce3a6b05a7",
   "metadata": {},
   "outputs": [],
   "source": [
    "from sklearn.impute import SimpleImputer\n",
    "imputer=SimpleImputer(strategy='mean')\n",
    "df_d=df[['Age']]\n",
    "imputer.fit(df_d)\n",
    "#print(imputer.statistics_)\n",
    "x=imputer.transform(df_d)"
   ]
  },
  {
   "cell_type": "code",
   "execution_count": 15,
   "id": "ad017be1-3d2f-4c01-8ddc-332566eb6484",
   "metadata": {},
   "outputs": [],
   "source": [
    "df2=pd.DataFrame(x,columns=df_d.columns)"
   ]
  },
  {
   "cell_type": "code",
   "execution_count": null,
   "id": "2df0cee0-cec2-4e83-9640-1e9d06edbf44",
   "metadata": {},
   "outputs": [],
   "source": []
  },
  {
   "cell_type": "code",
   "execution_count": null,
   "id": "8697b7af-5a2c-4de9-af4a-e9ea7be0fafb",
   "metadata": {},
   "outputs": [],
   "source": []
  },
  {
   "cell_type": "code",
   "execution_count": null,
   "id": "f837414c-feba-4dea-80ba-edabd93d51b3",
   "metadata": {},
   "outputs": [],
   "source": []
  }
 ],
 "metadata": {
  "kernelspec": {
   "display_name": "Python 3 (ipykernel)",
   "language": "python",
   "name": "python3"
  },
  "language_info": {
   "codemirror_mode": {
    "name": "ipython",
    "version": 3
   },
   "file_extension": ".py",
   "mimetype": "text/x-python",
   "name": "python",
   "nbconvert_exporter": "python",
   "pygments_lexer": "ipython3",
   "version": "3.11.7"
  }
 },
 "nbformat": 4,
 "nbformat_minor": 5
}
